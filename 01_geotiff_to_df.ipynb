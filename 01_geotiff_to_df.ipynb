{
 "cells": [
  {
   "cell_type": "markdown",
   "metadata": {},
   "source": [
    "# GeoTIFF to Pandas DataFrame\n",
    "---\n",
    "This is patched code I found online, which reads the input GeoTIFF file (.tif) per pixel. Every non-null pixel's value is saved in a DataFrame as a unique row, along with the pixel's x and y coordinates."
   ]
  },
  {
   "cell_type": "code",
   "execution_count": 2,
   "metadata": {},
   "outputs": [],
   "source": [
    "import rasterio as rio\n",
    "import pandas as pd\n",
    "import math"
   ]
  },
  {
   "cell_type": "markdown",
   "metadata": {},
   "source": [
    "#### Input GeoTIFF file is from [Global Wind Atlas](https://globalwindatlas.info/area/Philippines) dated 2008 to 2017.\n",
    "This code can essentially work with other GeoTIFF maps from the web app. However, the runtime baseline below is for a map image with dimensions of **5561 by 7671 (42,658,431 pixels)**"
   ]
  },
  {
   "cell_type": "code",
   "execution_count": 6,
   "metadata": {},
   "outputs": [],
   "source": [
    "tif_file_name = \"data/PHL_wind-speed_100m.tif\"\n",
    "with rio.open(tif_file_name) as img:\n",
    "    band_id = 1 # Read the raster's first band to process the image's pixels\n",
    "    band_arr = img.read(band_id)\n",
    "    img_width = band_arr.shape[1]\n",
    "    img_height = band_arr.shape[0]\n",
    "    img_dtype = band_arr.dtype\n",
    "img.close()"
   ]
  },
  {
   "cell_type": "code",
   "execution_count": 7,
   "metadata": {},
   "outputs": [
    {
     "data": {
      "text/plain": [
       "(5561, 7671)"
      ]
     },
     "execution_count": 7,
     "metadata": {},
     "output_type": "execute_result"
    }
   ],
   "source": [
    "img_width, img_height"
   ]
  },
  {
   "cell_type": "markdown",
   "metadata": {},
   "source": [
    "#### Baseline runtime (Mac OS 11.2.3): 6 minutes max"
   ]
  },
  {
   "cell_type": "code",
   "execution_count": 5,
   "metadata": {},
   "outputs": [
    {
     "name": "stdout",
     "output_type": "stream",
     "text": [
      "42658431\n"
     ]
    }
   ],
   "source": [
    "px_vals = []\n",
    "\n",
    "count = 0\n",
    "for x in range(img_width):\n",
    "    for y in range(img_height):\n",
    "        count += 1\n",
    "        px_val = band_arr[y, x]\n",
    "        if (not(math.isnan(px_val))):\n",
    "            px_vals.append({\"x\": x, \n",
    "                            \"y\": y,\n",
    "                            \"value\": px_val})\n",
    "\n",
    "print(count)"
   ]
  },
  {
   "cell_type": "code",
   "execution_count": 15,
   "metadata": {},
   "outputs": [
    {
     "data": {
      "text/html": [
       "<div>\n",
       "<style scoped>\n",
       "    .dataframe tbody tr th:only-of-type {\n",
       "        vertical-align: middle;\n",
       "    }\n",
       "\n",
       "    .dataframe tbody tr th {\n",
       "        vertical-align: top;\n",
       "    }\n",
       "\n",
       "    .dataframe thead th {\n",
       "        text-align: right;\n",
       "    }\n",
       "</style>\n",
       "<table border=\"1\" class=\"dataframe\">\n",
       "  <thead>\n",
       "    <tr style=\"text-align: right;\">\n",
       "      <th></th>\n",
       "      <th>x</th>\n",
       "      <th>y</th>\n",
       "      <th>value</th>\n",
       "    </tr>\n",
       "  </thead>\n",
       "  <tbody>\n",
       "    <tr>\n",
       "      <th>0</th>\n",
       "      <td>0</td>\n",
       "      <td>5801</td>\n",
       "      <td>5.230973</td>\n",
       "    </tr>\n",
       "    <tr>\n",
       "      <th>1</th>\n",
       "      <td>0</td>\n",
       "      <td>5802</td>\n",
       "      <td>5.231110</td>\n",
       "    </tr>\n",
       "    <tr>\n",
       "      <th>2</th>\n",
       "      <td>0</td>\n",
       "      <td>5803</td>\n",
       "      <td>5.231216</td>\n",
       "    </tr>\n",
       "    <tr>\n",
       "      <th>3</th>\n",
       "      <td>0</td>\n",
       "      <td>5804</td>\n",
       "      <td>5.231292</td>\n",
       "    </tr>\n",
       "    <tr>\n",
       "      <th>4</th>\n",
       "      <td>0</td>\n",
       "      <td>5805</td>\n",
       "      <td>5.232414</td>\n",
       "    </tr>\n",
       "    <tr>\n",
       "      <th>...</th>\n",
       "      <td>...</td>\n",
       "      <td>...</td>\n",
       "      <td>...</td>\n",
       "    </tr>\n",
       "    <tr>\n",
       "      <th>22423447</th>\n",
       "      <td>4950</td>\n",
       "      <td>5957</td>\n",
       "      <td>5.187756</td>\n",
       "    </tr>\n",
       "    <tr>\n",
       "      <th>22423448</th>\n",
       "      <td>4950</td>\n",
       "      <td>5958</td>\n",
       "      <td>5.187970</td>\n",
       "    </tr>\n",
       "    <tr>\n",
       "      <th>22423449</th>\n",
       "      <td>4950</td>\n",
       "      <td>5959</td>\n",
       "      <td>5.188166</td>\n",
       "    </tr>\n",
       "    <tr>\n",
       "      <th>22423450</th>\n",
       "      <td>4950</td>\n",
       "      <td>5960</td>\n",
       "      <td>5.188385</td>\n",
       "    </tr>\n",
       "    <tr>\n",
       "      <th>22423451</th>\n",
       "      <td>4950</td>\n",
       "      <td>5961</td>\n",
       "      <td>5.188580</td>\n",
       "    </tr>\n",
       "  </tbody>\n",
       "</table>\n",
       "<p>22423452 rows × 3 columns</p>\n",
       "</div>"
      ],
      "text/plain": [
       "             x     y     value\n",
       "0            0  5801  5.230973\n",
       "1            0  5802  5.231110\n",
       "2            0  5803  5.231216\n",
       "3            0  5804  5.231292\n",
       "4            0  5805  5.232414\n",
       "...        ...   ...       ...\n",
       "22423447  4950  5957  5.187756\n",
       "22423448  4950  5958  5.187970\n",
       "22423449  4950  5959  5.188166\n",
       "22423450  4950  5960  5.188385\n",
       "22423451  4950  5961  5.188580\n",
       "\n",
       "[22423452 rows x 3 columns]"
      ]
     },
     "execution_count": 15,
     "metadata": {},
     "output_type": "execute_result"
    }
   ],
   "source": [
    "df = pd.DataFrame(px_vals, columns=[\"x\", \"y\", \"value\"])\n",
    "df"
   ]
  },
  {
   "cell_type": "code",
   "execution_count": 16,
   "metadata": {},
   "outputs": [
    {
     "data": {
      "text/html": [
       "<div>\n",
       "<style scoped>\n",
       "    .dataframe tbody tr th:only-of-type {\n",
       "        vertical-align: middle;\n",
       "    }\n",
       "\n",
       "    .dataframe tbody tr th {\n",
       "        vertical-align: top;\n",
       "    }\n",
       "\n",
       "    .dataframe thead th {\n",
       "        text-align: right;\n",
       "    }\n",
       "</style>\n",
       "<table border=\"1\" class=\"dataframe\">\n",
       "  <thead>\n",
       "    <tr style=\"text-align: right;\">\n",
       "      <th></th>\n",
       "      <th>x</th>\n",
       "      <th>y</th>\n",
       "      <th>windvelo</th>\n",
       "    </tr>\n",
       "  </thead>\n",
       "  <tbody>\n",
       "    <tr>\n",
       "      <th>0</th>\n",
       "      <td>0</td>\n",
       "      <td>5801</td>\n",
       "      <td>5.230973</td>\n",
       "    </tr>\n",
       "    <tr>\n",
       "      <th>1</th>\n",
       "      <td>0</td>\n",
       "      <td>5802</td>\n",
       "      <td>5.231110</td>\n",
       "    </tr>\n",
       "    <tr>\n",
       "      <th>2</th>\n",
       "      <td>0</td>\n",
       "      <td>5803</td>\n",
       "      <td>5.231216</td>\n",
       "    </tr>\n",
       "    <tr>\n",
       "      <th>3</th>\n",
       "      <td>0</td>\n",
       "      <td>5804</td>\n",
       "      <td>5.231292</td>\n",
       "    </tr>\n",
       "    <tr>\n",
       "      <th>4</th>\n",
       "      <td>0</td>\n",
       "      <td>5805</td>\n",
       "      <td>5.232414</td>\n",
       "    </tr>\n",
       "    <tr>\n",
       "      <th>...</th>\n",
       "      <td>...</td>\n",
       "      <td>...</td>\n",
       "      <td>...</td>\n",
       "    </tr>\n",
       "    <tr>\n",
       "      <th>22423447</th>\n",
       "      <td>4950</td>\n",
       "      <td>5957</td>\n",
       "      <td>5.187756</td>\n",
       "    </tr>\n",
       "    <tr>\n",
       "      <th>22423448</th>\n",
       "      <td>4950</td>\n",
       "      <td>5958</td>\n",
       "      <td>5.187970</td>\n",
       "    </tr>\n",
       "    <tr>\n",
       "      <th>22423449</th>\n",
       "      <td>4950</td>\n",
       "      <td>5959</td>\n",
       "      <td>5.188166</td>\n",
       "    </tr>\n",
       "    <tr>\n",
       "      <th>22423450</th>\n",
       "      <td>4950</td>\n",
       "      <td>5960</td>\n",
       "      <td>5.188385</td>\n",
       "    </tr>\n",
       "    <tr>\n",
       "      <th>22423451</th>\n",
       "      <td>4950</td>\n",
       "      <td>5961</td>\n",
       "      <td>5.188580</td>\n",
       "    </tr>\n",
       "  </tbody>\n",
       "</table>\n",
       "<p>22423452 rows × 3 columns</p>\n",
       "</div>"
      ],
      "text/plain": [
       "             x     y  windvelo\n",
       "0            0  5801  5.230973\n",
       "1            0  5802  5.231110\n",
       "2            0  5803  5.231216\n",
       "3            0  5804  5.231292\n",
       "4            0  5805  5.232414\n",
       "...        ...   ...       ...\n",
       "22423447  4950  5957  5.187756\n",
       "22423448  4950  5958  5.187970\n",
       "22423449  4950  5959  5.188166\n",
       "22423450  4950  5960  5.188385\n",
       "22423451  4950  5961  5.188580\n",
       "\n",
       "[22423452 rows x 3 columns]"
      ]
     },
     "execution_count": 16,
     "metadata": {},
     "output_type": "execute_result"
    }
   ],
   "source": [
    "df = df.rename(columns={\"value\": \"windvelo\"})\n",
    "df"
   ]
  },
  {
   "cell_type": "code",
   "execution_count": 18,
   "metadata": {
    "scrolled": true
   },
   "outputs": [
    {
     "data": {
      "text/plain": [
       "x             int32\n",
       "y             int32\n",
       "windvelo    float32\n",
       "dtype: object"
      ]
     },
     "execution_count": 18,
     "metadata": {},
     "output_type": "execute_result"
    }
   ],
   "source": [
    "df = df.astype({\"x\": \"int32\", \"y\": \"int32\", \"windvelo\": \"float32\"})\n",
    "df.dtypes"
   ]
  },
  {
   "cell_type": "code",
   "execution_count": 20,
   "metadata": {},
   "outputs": [],
   "source": [
    "# !mkdir results\n",
    "df.to_pickle(\"results/gwa0817_100m.pkl\")"
   ]
  },
  {
   "cell_type": "markdown",
   "metadata": {},
   "source": [
    "#### Wind speed values are in meters per second."
   ]
  },
  {
   "cell_type": "code",
   "execution_count": 4,
   "metadata": {},
   "outputs": [
    {
     "data": {
      "text/plain": [
       "array([[<matplotlib.axes._subplots.AxesSubplot object at 0x7fab255bf280>]],\n",
       "      dtype=object)"
      ]
     },
     "execution_count": 4,
     "metadata": {},
     "output_type": "execute_result"
    },
    {
     "data": {
      "image/png": "[encoded data removed]",
      "text/plain": [
       "<Figure size 432x288 with 1 Axes>"
      ]
     },
     "metadata": {
      "needs_background": "light"
     },
     "output_type": "display_data"
    }
   ],
   "source": [
    "df.hist(column=\"windvelo\", bins=100, color=\"#053B5C\")"
   ]
  },
  {
   "cell_type": "code",
   "execution_count": 5,
   "metadata": {},
   "outputs": [
    {
     "data": {
      "text/html": [
       "<div>\n",
       "<style scoped>\n",
       "    .dataframe tbody tr th:only-of-type {\n",
       "        vertical-align: middle;\n",
       "    }\n",
       "\n",
       "    .dataframe tbody tr th {\n",
       "        vertical-align: top;\n",
       "    }\n",
       "\n",
       "    .dataframe thead th {\n",
       "        text-align: right;\n",
       "    }\n",
       "</style>\n",
       "<table border=\"1\" class=\"dataframe\">\n",
       "  <thead>\n",
       "    <tr style=\"text-align: right;\">\n",
       "      <th></th>\n",
       "      <th>x</th>\n",
       "      <th>y</th>\n",
       "      <th>windvelo</th>\n",
       "    </tr>\n",
       "  </thead>\n",
       "  <tbody>\n",
       "    <tr>\n",
       "      <th>count</th>\n",
       "      <td>2.242345e+07</td>\n",
       "      <td>2.242345e+07</td>\n",
       "      <td>2.242345e+07</td>\n",
       "    </tr>\n",
       "    <tr>\n",
       "      <th>mean</th>\n",
       "      <td>2.461363e+03</td>\n",
       "      <td>4.170244e+03</td>\n",
       "      <td>5.985596e+00</td>\n",
       "    </tr>\n",
       "    <tr>\n",
       "      <th>std</th>\n",
       "      <td>1.074798e+03</td>\n",
       "      <td>1.803497e+03</td>\n",
       "      <td>1.743064e+00</td>\n",
       "    </tr>\n",
       "    <tr>\n",
       "      <th>min</th>\n",
       "      <td>0.000000e+00</td>\n",
       "      <td>9.000000e+00</td>\n",
       "      <td>5.363950e-01</td>\n",
       "    </tr>\n",
       "    <tr>\n",
       "      <th>25%</th>\n",
       "      <td>1.615000e+03</td>\n",
       "      <td>2.810000e+03</td>\n",
       "      <td>4.338831e+00</td>\n",
       "    </tr>\n",
       "    <tr>\n",
       "      <th>50%</th>\n",
       "      <td>2.406000e+03</td>\n",
       "      <td>4.384000e+03</td>\n",
       "      <td>5.492495e+00</td>\n",
       "    </tr>\n",
       "    <tr>\n",
       "      <th>75%</th>\n",
       "      <td>3.221000e+03</td>\n",
       "      <td>5.625000e+03</td>\n",
       "      <td>6.777289e+00</td>\n",
       "    </tr>\n",
       "    <tr>\n",
       "      <th>max</th>\n",
       "      <td>4.950000e+03</td>\n",
       "      <td>7.670000e+03</td>\n",
       "      <td>1.763615e+01</td>\n",
       "    </tr>\n",
       "  </tbody>\n",
       "</table>\n",
       "</div>"
      ],
      "text/plain": [
       "                  x             y      windvelo\n",
       "count  2.242345e+07  2.242345e+07  2.242345e+07\n",
       "mean   2.461363e+03  4.170244e+03  5.985596e+00\n",
       "std    1.074798e+03  1.803497e+03  1.743064e+00\n",
       "min    0.000000e+00  9.000000e+00  5.363950e-01\n",
       "25%    1.615000e+03  2.810000e+03  4.338831e+00\n",
       "50%    2.406000e+03  4.384000e+03  5.492495e+00\n",
       "75%    3.221000e+03  5.625000e+03  6.777289e+00\n",
       "max    4.950000e+03  7.670000e+03  1.763615e+01"
      ]
     },
     "execution_count": 5,
     "metadata": {},
     "output_type": "execute_result"
    }
   ],
   "source": [
    "df.describe()"
   ]
  },
  {
   "cell_type": "code",
   "execution_count": null,
   "metadata": {},
   "outputs": [],
   "source": []
  }
 ],
 "metadata": {
  "kernelspec": {
   "display_name": "Python 3",
   "language": "python",
   "name": "python3"
  },
  "language_info": {
   "codemirror_mode": {
    "name": "ipython",
    "version": 3
   },
   "file_extension": ".py",
   "mimetype": "text/x-python",
   "name": "python",
   "nbconvert_exporter": "python",
   "pygments_lexer": "ipython3",
   "version": "3.8.5"
  }
 },
 "nbformat": 4,
 "nbformat_minor": 4
}
