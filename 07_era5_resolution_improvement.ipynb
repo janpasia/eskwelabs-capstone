{
 "cells": [
  {
   "cell_type": "markdown",
   "metadata": {},
   "source": [
    "# ERA5 Resolution Improvement\n",
    "---\n",
    "This notebook is concerned with the improvement of the grid resolution of the time series forecast results. Each one of the 3,195 grids must be split into 10,000 (100 x 100) which corresponds to the resolution of the GWA map.\n",
    "\n",
    "This notebook requires the following:\n",
    "* the **resulting pickle file from NB # 1**, which could not be made available through Github due to filesize\n",
    "* the **Global Wind Atlas map** used as input in NB # 1, available in the Github repository\n",
    "* the **resulting pickle files from NB # 6**, available in the Github repository"
   ]
  },
  {
   "cell_type": "code",
   "execution_count": 1,
   "metadata": {},
   "outputs": [],
   "source": [
    "import numpy as np\n",
    "import pandas as pd\n",
    "import rasterio as rio\n",
    "import math\n",
    "from datetime import datetime"
   ]
  },
  {
   "cell_type": "code",
   "execution_count": 2,
   "metadata": {},
   "outputs": [
    {
     "data": {
      "text/html": [
       "<div>\n",
       "<style scoped>\n",
       "    .dataframe tbody tr th:only-of-type {\n",
       "        vertical-align: middle;\n",
       "    }\n",
       "\n",
       "    .dataframe tbody tr th {\n",
       "        vertical-align: top;\n",
       "    }\n",
       "\n",
       "    .dataframe thead th {\n",
       "        text-align: right;\n",
       "    }\n",
       "</style>\n",
       "<table border=\"1\" class=\"dataframe\">\n",
       "  <thead>\n",
       "    <tr style=\"text-align: right;\">\n",
       "      <th></th>\n",
       "      <th>x</th>\n",
       "      <th>y</th>\n",
       "      <th>windvelo</th>\n",
       "    </tr>\n",
       "  </thead>\n",
       "  <tbody>\n",
       "    <tr>\n",
       "      <th>0</th>\n",
       "      <td>0</td>\n",
       "      <td>5801</td>\n",
       "      <td>5.230973</td>\n",
       "    </tr>\n",
       "    <tr>\n",
       "      <th>1</th>\n",
       "      <td>0</td>\n",
       "      <td>5802</td>\n",
       "      <td>5.231110</td>\n",
       "    </tr>\n",
       "    <tr>\n",
       "      <th>2</th>\n",
       "      <td>0</td>\n",
       "      <td>5803</td>\n",
       "      <td>5.231216</td>\n",
       "    </tr>\n",
       "    <tr>\n",
       "      <th>3</th>\n",
       "      <td>0</td>\n",
       "      <td>5804</td>\n",
       "      <td>5.231292</td>\n",
       "    </tr>\n",
       "    <tr>\n",
       "      <th>4</th>\n",
       "      <td>0</td>\n",
       "      <td>5805</td>\n",
       "      <td>5.232414</td>\n",
       "    </tr>\n",
       "    <tr>\n",
       "      <th>...</th>\n",
       "      <td>...</td>\n",
       "      <td>...</td>\n",
       "      <td>...</td>\n",
       "    </tr>\n",
       "    <tr>\n",
       "      <th>22423447</th>\n",
       "      <td>4950</td>\n",
       "      <td>5957</td>\n",
       "      <td>5.187756</td>\n",
       "    </tr>\n",
       "    <tr>\n",
       "      <th>22423448</th>\n",
       "      <td>4950</td>\n",
       "      <td>5958</td>\n",
       "      <td>5.187970</td>\n",
       "    </tr>\n",
       "    <tr>\n",
       "      <th>22423449</th>\n",
       "      <td>4950</td>\n",
       "      <td>5959</td>\n",
       "      <td>5.188166</td>\n",
       "    </tr>\n",
       "    <tr>\n",
       "      <th>22423450</th>\n",
       "      <td>4950</td>\n",
       "      <td>5960</td>\n",
       "      <td>5.188385</td>\n",
       "    </tr>\n",
       "    <tr>\n",
       "      <th>22423451</th>\n",
       "      <td>4950</td>\n",
       "      <td>5961</td>\n",
       "      <td>5.188580</td>\n",
       "    </tr>\n",
       "  </tbody>\n",
       "</table>\n",
       "<p>22423452 rows × 3 columns</p>\n",
       "</div>"
      ],
      "text/plain": [
       "             x     y  windvelo\n",
       "0            0  5801  5.230973\n",
       "1            0  5802  5.231110\n",
       "2            0  5803  5.231216\n",
       "3            0  5804  5.231292\n",
       "4            0  5805  5.232414\n",
       "...        ...   ...       ...\n",
       "22423447  4950  5957  5.187756\n",
       "22423448  4950  5958  5.187970\n",
       "22423449  4950  5959  5.188166\n",
       "22423450  4950  5960  5.188385\n",
       "22423451  4950  5961  5.188580\n",
       "\n",
       "[22423452 rows x 3 columns]"
      ]
     },
     "execution_count": 2,
     "metadata": {},
     "output_type": "execute_result"
    }
   ],
   "source": [
    "gwa_df = pd.read_pickle(\"results/gwa0817_100m.pkl\")\n",
    "gwa_df"
   ]
  },
  {
   "cell_type": "code",
   "execution_count": 3,
   "metadata": {},
   "outputs": [],
   "source": [
    "tif_file_name = \"data/PHL_wind-speed_100m.tif\"\n",
    "with rio.open(tif_file_name) as img:\n",
    "    affine_matrix = img.transform\n",
    "    inverse_affine = ~affine_matrix\n",
    "img.close()"
   ]
  },
  {
   "cell_type": "code",
   "execution_count": 4,
   "metadata": {},
   "outputs": [
    {
     "name": "stdout",
     "output_type": "stream",
     "text": [
      "| 0.00, 0.00, 116.04|\n",
      "| 0.00,-0.00, 22.18|\n",
      "| 0.00, 0.00, 1.00|\n",
      "| 400.00, 0.00,-46416.63|\n",
      "| 0.00,-400.00, 8871.31|\n",
      "| 0.00, 0.00, 1.00|\n"
     ]
    }
   ],
   "source": [
    "print(affine_matrix) # longitude, latitude = affine_matrix * (x, y)\n",
    "print(inverse_affine) # x, y = inverse_affine * (longitude, latitude)"
   ]
  },
  {
   "cell_type": "code",
   "execution_count": 11,
   "metadata": {},
   "outputs": [
    {
     "data": {
      "text/plain": [
       "4951"
      ]
     },
     "execution_count": 11,
     "metadata": {},
     "output_type": "execute_result"
    }
   ],
   "source": [
    "x_list = gwa_df.x.unique()\n",
    "len(x_list)"
   ]
  },
  {
   "cell_type": "code",
   "execution_count": 12,
   "metadata": {},
   "outputs": [
    {
     "data": {
      "text/plain": [
       "7662"
      ]
     },
     "execution_count": 12,
     "metadata": {},
     "output_type": "execute_result"
    }
   ],
   "source": [
    "y_list = gwa_df.y.unique()\n",
    "len(y_list)"
   ]
  },
  {
   "cell_type": "code",
   "execution_count": 17,
   "metadata": {
    "scrolled": false
   },
   "outputs": [
    {
     "data": {
      "text/html": [
       "<div>\n",
       "<style scoped>\n",
       "    .dataframe tbody tr th:only-of-type {\n",
       "        vertical-align: middle;\n",
       "    }\n",
       "\n",
       "    .dataframe tbody tr th {\n",
       "        vertical-align: top;\n",
       "    }\n",
       "\n",
       "    .dataframe thead th {\n",
       "        text-align: right;\n",
       "    }\n",
       "</style>\n",
       "<table border=\"1\" class=\"dataframe\">\n",
       "  <thead>\n",
       "    <tr style=\"text-align: right;\">\n",
       "      <th></th>\n",
       "      <th>x</th>\n",
       "      <th>y</th>\n",
       "      <th>windvelo</th>\n",
       "      <th>lat</th>\n",
       "      <th>lon</th>\n",
       "    </tr>\n",
       "  </thead>\n",
       "  <tbody>\n",
       "    <tr>\n",
       "      <th>0</th>\n",
       "      <td>0</td>\n",
       "      <td>5801</td>\n",
       "      <td>5.230973</td>\n",
       "      <td>NaN</td>\n",
       "      <td>NaN</td>\n",
       "    </tr>\n",
       "    <tr>\n",
       "      <th>1</th>\n",
       "      <td>0</td>\n",
       "      <td>5802</td>\n",
       "      <td>5.231110</td>\n",
       "      <td>NaN</td>\n",
       "      <td>NaN</td>\n",
       "    </tr>\n",
       "    <tr>\n",
       "      <th>2</th>\n",
       "      <td>0</td>\n",
       "      <td>5803</td>\n",
       "      <td>5.231216</td>\n",
       "      <td>NaN</td>\n",
       "      <td>NaN</td>\n",
       "    </tr>\n",
       "    <tr>\n",
       "      <th>3</th>\n",
       "      <td>0</td>\n",
       "      <td>5804</td>\n",
       "      <td>5.231292</td>\n",
       "      <td>NaN</td>\n",
       "      <td>NaN</td>\n",
       "    </tr>\n",
       "    <tr>\n",
       "      <th>4</th>\n",
       "      <td>0</td>\n",
       "      <td>5805</td>\n",
       "      <td>5.232414</td>\n",
       "      <td>NaN</td>\n",
       "      <td>NaN</td>\n",
       "    </tr>\n",
       "    <tr>\n",
       "      <th>...</th>\n",
       "      <td>...</td>\n",
       "      <td>...</td>\n",
       "      <td>...</td>\n",
       "      <td>...</td>\n",
       "      <td>...</td>\n",
       "    </tr>\n",
       "    <tr>\n",
       "      <th>22423447</th>\n",
       "      <td>4950</td>\n",
       "      <td>5957</td>\n",
       "      <td>5.187756</td>\n",
       "      <td>NaN</td>\n",
       "      <td>NaN</td>\n",
       "    </tr>\n",
       "    <tr>\n",
       "      <th>22423448</th>\n",
       "      <td>4950</td>\n",
       "      <td>5958</td>\n",
       "      <td>5.187970</td>\n",
       "      <td>NaN</td>\n",
       "      <td>NaN</td>\n",
       "    </tr>\n",
       "    <tr>\n",
       "      <th>22423449</th>\n",
       "      <td>4950</td>\n",
       "      <td>5959</td>\n",
       "      <td>5.188166</td>\n",
       "      <td>NaN</td>\n",
       "      <td>NaN</td>\n",
       "    </tr>\n",
       "    <tr>\n",
       "      <th>22423450</th>\n",
       "      <td>4950</td>\n",
       "      <td>5960</td>\n",
       "      <td>5.188385</td>\n",
       "      <td>NaN</td>\n",
       "      <td>NaN</td>\n",
       "    </tr>\n",
       "    <tr>\n",
       "      <th>22423451</th>\n",
       "      <td>4950</td>\n",
       "      <td>5961</td>\n",
       "      <td>5.188580</td>\n",
       "      <td>NaN</td>\n",
       "      <td>NaN</td>\n",
       "    </tr>\n",
       "  </tbody>\n",
       "</table>\n",
       "<p>22423452 rows × 5 columns</p>\n",
       "</div>"
      ],
      "text/plain": [
       "             x     y  windvelo  lat  lon\n",
       "0            0  5801  5.230973  NaN  NaN\n",
       "1            0  5802  5.231110  NaN  NaN\n",
       "2            0  5803  5.231216  NaN  NaN\n",
       "3            0  5804  5.231292  NaN  NaN\n",
       "4            0  5805  5.232414  NaN  NaN\n",
       "...        ...   ...       ...  ...  ...\n",
       "22423447  4950  5957  5.187756  NaN  NaN\n",
       "22423448  4950  5958  5.187970  NaN  NaN\n",
       "22423449  4950  5959  5.188166  NaN  NaN\n",
       "22423450  4950  5960  5.188385  NaN  NaN\n",
       "22423451  4950  5961  5.188580  NaN  NaN\n",
       "\n",
       "[22423452 rows x 5 columns]"
      ]
     },
     "execution_count": 17,
     "metadata": {},
     "output_type": "execute_result"
    }
   ],
   "source": [
    "gwa_df[\"lat\"] = pd.Series(dtype=\"float32\")\n",
    "gwa_df[\"lon\"] = pd.Series(dtype=\"float32\")\n",
    "gwa_df"
   ]
  },
  {
   "cell_type": "markdown",
   "metadata": {},
   "source": [
    "## ! ! ! Warning ! ! !\n",
    "The following 2 cells may run for at least 45 minutes each."
   ]
  },
  {
   "cell_type": "code",
   "execution_count": 29,
   "metadata": {},
   "outputs": [],
   "source": [
    "for i in range(len(x_list)):\n",
    "    x = x_list[i]\n",
    "    row_index = gwa_df.x == x\n",
    "    gwa_df.loc[row_index, \"lon\"] = gwa_df[row_index].apply(lambda g: (affine_matrix * (g.x, 0))[0], axis=1)"
   ]
  },
  {
   "cell_type": "code",
   "execution_count": 30,
   "metadata": {},
   "outputs": [],
   "source": [
    "for i in range(len(y_list)):\n",
    "    y = y_list[i]\n",
    "    row_index = gwa_df.y == y\n",
    "    gwa_df.loc[row_index, \"lat\"] = gwa_df[row_index].apply(lambda g: (affine_matrix * (0, g.y))[1], axis=1)"
   ]
  },
  {
   "cell_type": "code",
   "execution_count": 36,
   "metadata": {},
   "outputs": [],
   "source": [
    "gwa_df = gwa_df.astype({\"lon\": \"float32\"})"
   ]
  },
  {
   "cell_type": "code",
   "execution_count": 40,
   "metadata": {},
   "outputs": [
    {
     "data": {
      "text/plain": [
       "x             int32\n",
       "y             int32\n",
       "windvelo    float32\n",
       "lat         float32\n",
       "lon         float32\n",
       "dtype: object"
      ]
     },
     "execution_count": 40,
     "metadata": {},
     "output_type": "execute_result"
    }
   ],
   "source": [
    "gwa_df.dtypes"
   ]
  },
  {
   "cell_type": "code",
   "execution_count": 39,
   "metadata": {
    "scrolled": true
   },
   "outputs": [
    {
     "data": {
      "text/html": [
       "<div>\n",
       "<style scoped>\n",
       "    .dataframe tbody tr th:only-of-type {\n",
       "        vertical-align: middle;\n",
       "    }\n",
       "\n",
       "    .dataframe tbody tr th {\n",
       "        vertical-align: top;\n",
       "    }\n",
       "\n",
       "    .dataframe thead th {\n",
       "        text-align: right;\n",
       "    }\n",
       "</style>\n",
       "<table border=\"1\" class=\"dataframe\">\n",
       "  <thead>\n",
       "    <tr style=\"text-align: right;\">\n",
       "      <th></th>\n",
       "      <th>x</th>\n",
       "      <th>y</th>\n",
       "      <th>windvelo</th>\n",
       "      <th>lat</th>\n",
       "      <th>lon</th>\n",
       "    </tr>\n",
       "  </thead>\n",
       "  <tbody>\n",
       "    <tr>\n",
       "      <th>count</th>\n",
       "      <td>2.242345e+07</td>\n",
       "      <td>2.242345e+07</td>\n",
       "      <td>2.242345e+07</td>\n",
       "      <td>2.242345e+07</td>\n",
       "      <td>2.242345e+07</td>\n",
       "    </tr>\n",
       "    <tr>\n",
       "      <th>mean</th>\n",
       "      <td>2.461363e+03</td>\n",
       "      <td>4.170244e+03</td>\n",
       "      <td>5.985596e+00</td>\n",
       "      <td>1.197119e+01</td>\n",
       "      <td>9.737663e+01</td>\n",
       "    </tr>\n",
       "    <tr>\n",
       "      <th>std</th>\n",
       "      <td>1.074798e+03</td>\n",
       "      <td>1.803497e+03</td>\n",
       "      <td>1.743064e+00</td>\n",
       "      <td>4.410810e+00</td>\n",
       "      <td>2.493506e+01</td>\n",
       "    </tr>\n",
       "    <tr>\n",
       "      <th>min</th>\n",
       "      <td>0.000000e+00</td>\n",
       "      <td>9.000000e+00</td>\n",
       "      <td>5.363950e-01</td>\n",
       "      <td>3.003269e+00</td>\n",
       "      <td>1.160416e+02</td>\n",
       "    </tr>\n",
       "    <tr>\n",
       "      <th>25%</th>\n",
       "      <td>1.615000e+03</td>\n",
       "      <td>2.810000e+03</td>\n",
       "      <td>4.338831e+00</td>\n",
       "      <td>8.115768e+00</td>\n",
       "      <td>1.200791e+02</td>\n",
       "    </tr>\n",
       "    <tr>\n",
       "      <th>50%</th>\n",
       "      <td>2.406000e+03</td>\n",
       "      <td>4.384000e+03</td>\n",
       "      <td>5.492495e+00</td>\n",
       "      <td>1.121827e+01</td>\n",
       "      <td>1.220566e+02</td>\n",
       "    </tr>\n",
       "    <tr>\n",
       "      <th>75%</th>\n",
       "      <td>3.221000e+03</td>\n",
       "      <td>5.625000e+03</td>\n",
       "      <td>6.777289e+00</td>\n",
       "      <td>1.515327e+01</td>\n",
       "      <td>1.240941e+02</td>\n",
       "    </tr>\n",
       "    <tr>\n",
       "      <th>max</th>\n",
       "      <td>4.950000e+03</td>\n",
       "      <td>7.670000e+03</td>\n",
       "      <td>1.763615e+01</td>\n",
       "      <td>2.215577e+01</td>\n",
       "      <td>1.284166e+02</td>\n",
       "    </tr>\n",
       "  </tbody>\n",
       "</table>\n",
       "</div>"
      ],
      "text/plain": [
       "                  x             y      windvelo           lat           lon\n",
       "count  2.242345e+07  2.242345e+07  2.242345e+07  2.242345e+07  2.242345e+07\n",
       "mean   2.461363e+03  4.170244e+03  5.985596e+00  1.197119e+01  9.737663e+01\n",
       "std    1.074798e+03  1.803497e+03  1.743064e+00  4.410810e+00  2.493506e+01\n",
       "min    0.000000e+00  9.000000e+00  5.363950e-01  3.003269e+00  1.160416e+02\n",
       "25%    1.615000e+03  2.810000e+03  4.338831e+00  8.115768e+00  1.200791e+02\n",
       "50%    2.406000e+03  4.384000e+03  5.492495e+00  1.121827e+01  1.220566e+02\n",
       "75%    3.221000e+03  5.625000e+03  6.777289e+00  1.515327e+01  1.240941e+02\n",
       "max    4.950000e+03  7.670000e+03  1.763615e+01  2.215577e+01  1.284166e+02"
      ]
     },
     "execution_count": 39,
     "metadata": {},
     "output_type": "execute_result"
    }
   ],
   "source": [
    "gwa_df.describe()"
   ]
  },
  {
   "cell_type": "code",
   "execution_count": 41,
   "metadata": {},
   "outputs": [],
   "source": [
    "gwa_df.to_pickle(\"results/gwa_grids.pkl\")"
   ]
  },
  {
   "cell_type": "code",
   "execution_count": 42,
   "metadata": {},
   "outputs": [],
   "source": [
    "def get_square_bounds_ne(ctr_lat, ctr_lon, side_len=0.25):\n",
    "    adjust = side_len / 2\n",
    "    top_left = [ ctr_lat + adjust, ctr_lon - adjust ]\n",
    "    top_right = [ ctr_lat + adjust, ctr_lon + adjust ]\n",
    "    bottom_left = [ ctr_lat - adjust, ctr_lon - adjust ]\n",
    "    bottom_right = [ ctr_lat - adjust, ctr_lon + adjust ]\n",
    "    return [ top_left, bottom_right ]"
   ]
  },
  {
   "cell_type": "code",
   "execution_count": 43,
   "metadata": {},
   "outputs": [
    {
     "data": {
      "text/plain": [
       "((3195, 17), (3195, 17), (3195, 17))"
      ]
     },
     "execution_count": 43,
     "metadata": {},
     "output_type": "execute_result"
    }
   ],
   "source": [
    "mean2018_df = pd.read_pickle(\"results/mean2018.pkl\")\n",
    "mean2019_df = pd.read_pickle(\"results/mean2019.pkl\")\n",
    "mean2020_df = pd.read_pickle(\"results/mean2020.pkl\")\n",
    "mean2018_df.shape, mean2019_df.shape, mean2020_df.shape"
   ]
  },
  {
   "cell_type": "code",
   "execution_count": 44,
   "metadata": {},
   "outputs": [
    {
     "data": {
      "text/plain": [
       "((3195, 18), (3195, 18), (3195, 18))"
      ]
     },
     "execution_count": 44,
     "metadata": {},
     "output_type": "execute_result"
    }
   ],
   "source": [
    "mean2018_df[\"bounds\"] = mean2018_df.apply(lambda x : get_square_bounds_ne(x[\"lat\"], x[\"lon\"]), axis=1)\n",
    "mean2019_df[\"bounds\"] = mean2019_df.apply(lambda x : get_square_bounds_ne(x[\"lat\"], x[\"lon\"]), axis=1)\n",
    "mean2020_df[\"bounds\"] = mean2020_df.apply(lambda x : get_square_bounds_ne(x[\"lat\"], x[\"lon\"]), axis=1)\n",
    "mean2018_df.shape, mean2019_df.shape, mean2020_df.shape"
   ]
  },
  {
   "cell_type": "code",
   "execution_count": 45,
   "metadata": {},
   "outputs": [],
   "source": [
    "mean2018_df.to_pickle(\"results/mean2018.pkl\")\n",
    "mean2019_df.to_pickle(\"results/mean2019.pkl\")\n",
    "mean2020_df.to_pickle(\"results/mean2020.pkl\")"
   ]
  },
  {
   "cell_type": "code",
   "execution_count": null,
   "metadata": {},
   "outputs": [],
   "source": []
  }
 ],
 "metadata": {
  "kernelspec": {
   "display_name": "Python 3",
   "language": "python",
   "name": "python3"
  },
  "language_info": {
   "codemirror_mode": {
    "name": "ipython",
    "version": 3
   },
   "file_extension": ".py",
   "mimetype": "text/x-python",
   "name": "python",
   "nbconvert_exporter": "python",
   "pygments_lexer": "ipython3",
   "version": "3.8.5"
  }
 },
 "nbformat": 4,
 "nbformat_minor": 4
}
